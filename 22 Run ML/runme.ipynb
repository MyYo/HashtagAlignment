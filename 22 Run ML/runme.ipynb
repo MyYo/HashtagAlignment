{
 "cells": [
  {
   "cell_type": "markdown",
   "metadata": {},
   "source": [
    "#  Run Machine Learning\n",
    "This notebook is optimized for using pytorch (look at the environment on the top right). <br>\n",
    "This is the main folder path: [~/ml/](http://localhost:8888/tree/ml)<br>\n",
    "Image dataset is located here: [~/ml/dataset_oct_histology/](http://localhost:8888/tree/ml/dataset_oct_histology)"
   ]
  },
  {
   "cell_type": "code",
   "execution_count": null,
   "metadata": {},
   "outputs": [],
   "source": [
    "# Install environment dependencies\n",
    "!pip install --upgrade pip\n",
    "!pip install dominate\n",
    "!pip install torch_nightly -f https://download.pytorch.org/whl/nightly/cu100/torch_nightly.html\n",
    "\n",
    "# Set up general varibles\n",
    "root_path = '~/ml/'\n",
    "dataset_path = root_path + 'dataset_oct_histology/'"
   ]
  },
  {
   "cell_type": "markdown",
   "metadata": {},
   "source": [
    "## Pix2PixHD\n",
    "Run code below to train Pix2PixHD Model.<br>\n",
    "Results can be viewed here: [~/ml/checkpoints/MyModel/web/index.html](http://localhost:8888/view/ml/checkpoints/MyModel/web/index.html) as the model trains.<br>\n",
    "Test results can be viewed here: [~/ml/results/MyModel/test_latest/index.html](http://localhost:8888/view/ml/results/MyModel/test_latest/index.html) after test command\n"
   ]
  },
  {
   "cell_type": "code",
   "execution_count": null,
   "metadata": {},
   "outputs": [],
   "source": [
    "# Example, run pix2pix_hd. We trun off left-right as dataset is already contains flipped immages\n",
    "!python {root_path}train.py --name MyModel --dataroot {dataset_path} --label_nc 0 --no_instance --no_flip\n",
    "!python {root_path}test.py  --name MyModel --dataroot {dataset_path} --label_nc 0 --no_instance --no_flip\n"
   ]
  }
 ],
 "metadata": {
  "kernelspec": {
   "display_name": "Environment (conda_aws_neuron_pytorch_p36)",
   "language": "python",
   "name": "conda_aws_neuron_pytorch_p36"
  },
  "language_info": {
   "codemirror_mode": {
    "name": "ipython",
    "version": 3
   },
   "file_extension": ".py",
   "mimetype": "text/x-python",
   "name": "python",
   "nbconvert_exporter": "python",
   "pygments_lexer": "ipython3",
   "version": "3.6.5"
  }
 },
 "nbformat": 4,
 "nbformat_minor": 2
}
