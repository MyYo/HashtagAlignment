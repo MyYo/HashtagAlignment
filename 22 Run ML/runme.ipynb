{
 "cells": [
  {
   "cell_type": "markdown",
   "metadata": {},
   "source": [
    "#  Run Machine Learning\n",
    "This notebook is optimized for using pytorch (look at the environment on the top left).\n",
    "\n",
    "This is the main folder path: [/ml/](http://localhost:8888/tree/ml) <br>\n",
    "Image dataset is located here: [/ml/dataset_oct_histology/](http://localhost:8888/tree/ml/dataset_oct_histology)  "
   ]
  },
  {
   "cell_type": "code",
   "execution_count": 20,
   "metadata": {},
   "outputs": [
    {
     "name": "stdout",
     "output_type": "stream",
     "text": [
      "Requirement already up-to-date: pip in /home/ubuntu/anaconda3/envs/aws_neuron_pytorch_p36/lib/python3.6/site-packages (20.0.2)\n",
      "Requirement already satisfied: dominate in /home/ubuntu/anaconda3/envs/aws_neuron_pytorch_p36/lib/python3.6/site-packages (2.5.1)\n",
      "Looking in links: https://download.pytorch.org/whl/nightly/cu100/torch_nightly.html\n",
      "Requirement already satisfied: torch_nightly in /home/ubuntu/anaconda3/envs/aws_neuron_pytorch_p36/lib/python3.6/site-packages (1.2.0.dev20190805)\n"
     ]
    }
   ],
   "source": [
    "# Install environment dependencies\n",
    "!pip install --upgrade pip\n",
    "!pip install dominate\n",
    "!pip install torch_nightly -f https://download.pytorch.org/whl/nightly/cu100/torch_nightly.html\n",
    "\n",
    "# Set up general varibles\n",
    "root_path = '/ml/'\n",
    "dataset_path = root_path + 'dataset_oct_histology/'"
   ]
  },
  {
   "cell_type": "code",
   "execution_count": null,
   "metadata": {},
   "outputs": [],
   "source": [
    "# Example, run pix2pix_hd\n",
    "!python {root_path}train.py --name MyModel --dataroot {dataset_path} --continue_train"
   ]
  }
 ],
 "metadata": {
  "kernelspec": {
   "display_name": "Environment (conda_aws_neuron_pytorch_p36)",
   "language": "python",
   "name": "conda_aws_neuron_pytorch_p36"
  },
  "language_info": {
   "codemirror_mode": {
    "name": "ipython",
    "version": 3
   },
   "file_extension": ".py",
   "mimetype": "text/x-python",
   "name": "python",
   "nbconvert_exporter": "python",
   "pygments_lexer": "ipython3",
   "version": "3.6.5"
  }
 },
 "nbformat": 4,
 "nbformat_minor": 2
}
