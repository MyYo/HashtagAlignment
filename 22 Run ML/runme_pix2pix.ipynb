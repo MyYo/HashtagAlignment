{
 "cells": [
  {
   "cell_type": "markdown",
   "metadata": {},
   "source": [
    "#  Run Pix2Pix\n",
    "This notebook is optimized for using pytorch (look at the environment on the top right). <br>\n",
    "This is the main folder path: [~/ml/](http://localhost:8888/tree/ml)<br>\n",
    "Image dataset is located here: [~/ml/dataset_oct_histology/](http://localhost:8888/tree/ml/dataset_oct_histology)<br>\n",
    "[Github Link](https://github.com/junyanz/pytorch-CycleGAN-and-pix2pix)<br>\n",
    "<br>\n",
    "## Install"
   ]
  },
  {
   "cell_type": "code",
   "execution_count": null,
   "metadata": {},
   "outputs": [],
   "source": [
    "# Set up general varibles\n",
    "root_path = '~/ml/'\n",
    "dataset_path = root_path + 'dataset_oct_histology/'\n",
    "code_main_folder = root_path + 'pix2pix_and_CycleGAN/'\n",
    "\n",
    "# Install environment dependencies\n",
    "!pip install --upgrade pip\n",
    "!pip install opencv-python\n",
    "    \n",
    "# Get main model\n",
    "!git clone --single-branch https://github.com/junyanz/pytorch-CycleGAN-and-pix2pix {code_main_folder}\n",
    "!pip install -r {code_main_folder}requirements.txt"
   ]
  },
  {
   "cell_type": "markdown",
   "metadata": {},
   "source": [
    "## Build Dataset\n",
    "This library requires OCT and histology images to be paired together.<br>\n",
    "Code below merges images from  [patches_256px_256px](http://localhost:8888/tree/ml/dataset_oct_histology/patches_256px_256px) to [patches_256px_256px_combined](http://localhost:8888/tree/ml/dataset_oct_histology/patches_256px_256px_combined)"
   ]
  },
  {
   "cell_type": "code",
   "execution_count": null,
   "metadata": {},
   "outputs": [],
   "source": [
    "import os\n",
    "import shutil\n",
    "import numpy as np\n",
    "import cv2\n",
    "\n",
    "# Generic function to combine two images\n",
    "def combine_images (img_fold_A, img_fold_B, img_fold_AB):\n",
    "    img_fold_A = os.path.expanduser(img_fold_A)\n",
    "    img_fold_B = os.path.expanduser(img_fold_B)\n",
    "    img_fold_AB = os.path.expanduser(img_fold_AB)\n",
    "    \n",
    "    # Setup a clean directory\n",
    "    def setup_clean_dir(d, is_clean=True):\n",
    "        if os.path.exists(d) and os.path.isdir(d) and is_clean:\n",
    "            shutil.rmtree(d)\n",
    "        if not os.path.exists(d):\n",
    "            os.mkdir(d)\n",
    "\n",
    "    # Setup parent directory\n",
    "    setup_clean_dir(os.path.abspath(os.path.join(img_fold_AB, '..')), is_clean = False)\n",
    "    # Setup AB directory\n",
    "    setup_clean_dir(img_fold_AB)\n",
    "\n",
    "    img_list = os.listdir(img_fold_A)\n",
    "    num_imgs = len(img_list)\n",
    "    \n",
    "    for n in range(num_imgs):\n",
    "        name_A = img_list[n]\n",
    "        path_A = os.path.join(img_fold_A, name_A)\n",
    "        name_B = name_A\n",
    "        path_B = os.path.join(img_fold_B, name_B)\n",
    "    \n",
    "        if os.path.isfile(path_A) and os.path.isfile(path_B):\n",
    "            name_AB = name_A\n",
    "            path_AB = os.path.join(img_fold_AB, name_AB)\n",
    "            im_A = cv2.imread(path_A, 1) # python2: cv2.CV_LOAD_IMAGE_COLOR; python3: cv2.IMREAD_COLOR\n",
    "            im_B = cv2.imread(path_B, 1) # python2: cv2.CV_LOAD_IMAGE_COLOR; python3: cv2.IMREAD_COLOR\n",
    "            im_AB = np.concatenate([im_A, im_B], 1)\n",
    "            cv2.imwrite(path_AB, im_AB)\n",
    "            \n",
    "# Set input and output folders\n",
    "patches_folder = dataset_path + 'patches_256px_256px/' # 'patches_1024px_512px/', 'patches_256px_256px/'\n",
    "patches_combined_folder = dataset_path + 'patches_256px_256px_combined/'# 'patches_1024px_512px_combined/','patches_256px_256px_combined/'\n",
    "\n",
    "# Combine train dataset\n",
    "combine_images(\n",
    "    img_fold_A = (patches_folder + 'train_A/'),\n",
    "    img_fold_B = (patches_folder + 'train_B/'),\n",
    "    img_fold_AB = (patches_combined_folder + 'train/'))\n",
    "\n",
    "# Delete test set, will add it later to make sure there is no image info leaking\n",
    "patches_combined_test_folder = (patches_combined_folder + 'test/')\n",
    "if os.path.exists(patches_combined_test_folder) and os.path.isdir(patches_combined_test_folder):\n",
    "    shutil.rmtree(patches_combined_test_folder)"
   ]
  },
  {
   "cell_type": "markdown",
   "metadata": {},
   "source": [
    "## Train\n",
    "Run code below to train model.<br>\n",
    "Results can be viewed here: [~/ml/checkpoints/pix2pix/web/index.html](http://localhost:8888/view/ml/checkpoints/pix2pix/web/index.html) as the model trains.<br>"
   ]
  },
  {
   "cell_type": "code",
   "execution_count": null,
   "metadata": {},
   "outputs": [],
   "source": [
    "# Default setting includes flip which trains on left-right flips as well.\n",
    "#'--preprocess crop' allows user to load larger than 256X256 images and just randomly crop the right size for training.\n",
    "#  this is not as recommended because most of the crops will be just black with no information\n",
    "# If model is stuck, restart using --continue_train to resume from latest model, --epoch_count <number> to get numbering right.\n",
    "!python {code_main_folder}train.py --name pix2pix --dataroot {patches_combined_folder} --model pix2pix --checkpoints_dir {root_path}checkpoints --preprocess none\n",
    "\n"
   ]
  },
  {
   "cell_type": "markdown",
   "metadata": {},
   "source": [
    "## Test\n",
    "\n",
    "Main test results can be viewed here: [~/ml/results/pix2pix/test_latest/index.html](http://localhost:8888/view/ml/results/pix2pix/test_latest/index.html) after test command\n"
   ]
  },
  {
   "cell_type": "code",
   "execution_count": null,
   "metadata": {},
   "outputs": [],
   "source": [
    "# Generate test dataset\n",
    "patches_folder_test = dataset_path + 'patches_1024px_512px/'\n",
    "patches_combined_folder_test = dataset_path + 'patches_1024px_512px_combined/'\n",
    "combine_images(\n",
    "    img_fold_A = (patches_folder_test + 'test_A/'),\n",
    "    img_fold_B = (patches_folder_test + 'test_B/'),\n",
    "    img_fold_AB = (patches_combined_folder_test + 'test/'))\n",
    "\n",
    "# Main test results\n",
    "#  --preprocess none allows to directly process a non 256x256 images using the convolutional proprety of the network\n",
    "!python {code_main_folder}test.py --name pix2pix --dataroot {patches_combined_folder_test} --model pix2pix --checkpoints_dir {root_path}checkpoints --results_dir {root_path}results --preprocess none\n",
    "\n",
    "# Go over test results, apply mask when required \n",
    "test_resoults_folder = root_path + 'results/pix2pix/test_latest/images/'\n",
    "img_list = os.listdir(img_fold_A)"
   ]
  },
  {
   "cell_type": "code",
   "execution_count": null,
   "metadata": {},
   "outputs": [],
   "source": [
    "# Post process images \n",
    "# Go over test results, apply mask when required \n",
    "test_resoults_folder = root_path + 'results/pix2pix/test_latest/images/'\n",
    "img_list = os.listdir(os.path.expanduser(test_resoults_folder))\n",
    "\n",
    "img_fake_B_list = [str for str in img_list if '_fake_B' in str]\n",
    "img_real_B_list = [str for str in img_list if '_real_B' in str]\n",
    "\n",
    "for i in range(len(img_fake_B_list)):\n",
    "    img_real_file_path = os.path.expanduser(os.path.join(test_resoults_folder,img_real_B_list[i]))\n",
    "    img_fake_file_path = os.path.expanduser(os.path.join(test_resoults_folder,img_fake_B_list[i]))\n",
    "    \n",
    "    im_real = cv2.imread(img_real_file_path, 1) # python2: cv2.CV_LOAD_IMAGE_COLOR; python3: cv2.IMREAD_COLOR\n",
    "    im_fake = cv2.imread(img_fake_file_path, 1) # python2: cv2.CV_LOAD_IMAGE_COLOR; python3: cv2.IMREAD_COLOR\n",
    "    \n",
    "    # Generate mask\n",
    "    is_black_pixel = np.all(im_real == 0, axis=2)\n",
    "    is_black_pixel = is_black_pixel[...,None]\n",
    "    is_black_pixel = np.concatenate((is_black_pixel,is_black_pixel,is_black_pixel), axis=2)\n",
    "    \n",
    "    # Apply mask\n",
    "    im_fake1[is_black_pixel] = 0\n",
    "    \n",
    "    # Save\n",
    "    cv2.imwrite(img_fake_file_path, im_fake1)   "
   ]
  }
 ],
 "metadata": {
  "kernelspec": {
   "display_name": "Environment (conda_aws_neuron_pytorch_p36)",
   "language": "python",
   "name": "conda_aws_neuron_pytorch_p36"
  },
  "language_info": {
   "codemirror_mode": {
    "name": "ipython",
    "version": 3
   },
   "file_extension": ".py",
   "mimetype": "text/x-python",
   "name": "python",
   "nbconvert_exporter": "python",
   "pygments_lexer": "ipython3",
   "version": "3.6.5"
  }
 },
 "nbformat": 4,
 "nbformat_minor": 2
}
