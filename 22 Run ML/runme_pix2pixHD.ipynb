{
 "cells": [
  {
   "cell_type": "markdown",
   "metadata": {},
   "source": [
    "#  Run Pix2Pix HD\n",
    "This notebook is optimized for using pytorch (look at the environment on the top right). <br>\n",
    "This is the main folder path: [~/ml/](http://localhost:8888/tree/ml)<br>\n",
    "Image dataset is located here: [~/ml/dataset_oct_histology/](http://localhost:8888/tree/ml/dataset_oct_histology)<br>\n",
    "[Github Link](https://github.com/NVIDIA/pix2pixHD)<br>\n",
    "<br>\n",
    "## Install"
   ]
  },
  {
   "cell_type": "code",
   "execution_count": null,
   "metadata": {},
   "outputs": [],
   "source": [
    "# Set up general varibles\n",
    "root_path = '~/ml/'\n",
    "dataset_path = root_path + 'dataset_oct_histology/'\n",
    "code_main_folder = root_path + 'pix2pixHD/'\n",
    "\n",
    "# Install environment dependencies\n",
    "!pip install --upgrade pip\n",
    "!pip install dominate\n",
    "!pip install torch_nightly -f https://download.pytorch.org/whl/nightly/cu100/torch_nightly.html\n",
    "    \n",
    "# Get main model\n",
    "!git clone --single-branch https://github.com/NVIDIA/pix2pixHD {code_main_folder}"
   ]
  },
  {
   "cell_type": "markdown",
   "metadata": {},
   "source": [
    "## Train\n",
    "Run code below to train model.<br>\n",
    "Results can be viewed here: [~/ml/checkpoints/pix2pixHD/web/index.html](http://localhost:8888/view/ml/checkpoints/pix2pixHD/web/index.html) as the model trains.<br>"
   ]
  },
  {
   "cell_type": "code",
   "execution_count": null,
   "metadata": {},
   "outputs": [],
   "source": [
    "# Default setting includes flip which trains on left-right flips as well\n",
    "!python {code_main_folder}train.py --name pix2pixHD --dataroot {dataset_path}/patches_1024px_512px --label_nc 0 --no_instance --checkpoints_dir {root_path}checkpoints\n"
   ]
  },
  {
   "cell_type": "markdown",
   "metadata": {},
   "source": [
    "## Test\n",
    "\n",
    "Main test results can be viewed here: [~/ml/results/pix2pixHD/test_latest/index.html](http://localhost:8888/view/ml/results/pix2pixHD/test_latest/index.html) after test command\n"
   ]
  },
  {
   "cell_type": "code",
   "execution_count": null,
   "metadata": {},
   "outputs": [],
   "source": [
    "# Main test results\n",
    "!python {code_main_folder}test.py  --name pix2pixHD --dataroot {dataset_path}/patches_1024px_512px --label_nc 0 --no_instance --checkpoints_dir {root_path}checkpoints --results_dir {root_path}results\n"
   ]
  }
 ],
 "metadata": {
  "kernelspec": {
   "display_name": "Environment (conda_aws_neuron_pytorch_p36)",
   "language": "python",
   "name": "conda_aws_neuron_pytorch_p36"
  },
  "language_info": {
   "codemirror_mode": {
    "name": "ipython",
    "version": 3
   },
   "file_extension": ".py",
   "mimetype": "text/x-python",
   "name": "python",
   "nbconvert_exporter": "python",
   "pygments_lexer": "ipython3",
   "version": "3.6.5"
  }
 },
 "nbformat": 4,
 "nbformat_minor": 2
}
